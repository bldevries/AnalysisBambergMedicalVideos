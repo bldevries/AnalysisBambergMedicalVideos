{
 "cells": [
  {
   "cell_type": "code",
   "execution_count": 5,
   "metadata": {},
   "outputs": [],
   "source": [
    "%load_ext autoreload\n",
    "%autoreload 2\n",
    "\n",
    "import os, glob, re\n",
    "import pandas as pd\n",
    "import numpy as np\n",
    "%matplotlib inline\n",
    "import matplotlib.pyplot as plt"
   ]
  },
  {
   "cell_type": "markdown",
   "metadata": {},
   "source": [
    "# Analysis of the Bamberg sample from Miriam Kunz"
   ]
  },
  {
   "cell_type": "markdown",
   "metadata": {},
   "source": [
    "## Goal of this document"
   ]
  },
  {
   "cell_type": "markdown",
   "metadata": {},
   "source": [
    "In this document I collect the results of study and work I have done over the year 2018. This document describes my work on the Bamberg videos from Miriam Kunz. "
   ]
  },
  {
   "cell_type": "markdown",
   "metadata": {},
   "source": [
    "## The Bamberg sample and labeling"
   ]
  },
  {
   "cell_type": "markdown",
   "metadata": {},
   "source": [
    "The bamberg sample consists out of 40 videos of roughly 10 minutes. The video focusses on the face of different people who get about 10 pain stimuli during the ten minutes. The people are idle and do not speak.\n",
    "The videos have been annotted by trained FACS encoders. The encoders have only encoded X seconds after a pain stimuli has been given. When the pain stimuli is given can be determined from the file with FACS labels. \n",
    "Information on and examples of FACS encoding:\n",
    "- https://en.wikipedia.org/wiki/Facial_Action_Coding_System\n",
    "- https://www.cs.cmu.edu/~face/facs.htm\n",
    "- https://imotions.com/blog/facial-action-coding-system/"
   ]
  },
  {
   "cell_type": "markdown",
   "metadata": {},
   "source": [
    "## Openface"
   ]
  },
  {
   "cell_type": "markdown",
   "metadata": {},
   "source": [
    "For the face expression analysis I used the openface package (https://github.com/TadasBaltrusaitis/OpenFace/wiki). Among other things, openface outputs csv files with action unit (AU) detections (both dicrete (c) and intensity (r)). The openface output is a timeseries.  \n",
    "\n",
    "Lets get the openface outputs here:"
   ]
  },
  {
   "cell_type": "code",
   "execution_count": 14,
   "metadata": {},
   "outputs": [
    {
     "data": {
      "text/plain": [
       "{}"
      ]
     },
     "execution_count": 14,
     "metadata": {},
     "output_type": "execute_result"
    }
   ],
   "source": [
    "# For me the openface output is stored here:\n",
    "openface_output_dir = os.path.join(\"G:\",\"PROJECT_DATA\",\"DEMENTIA_2017\",\"BAMBERG_ANALYSIS\",\n",
    "                                     \"v2_start_Dec2018_OpenFace_2.0.5_win_x64\",\"openface_output\")\n",
    "# Get all csv files\n",
    "files = glob.glob(os.path.join(openface_output_dir, \"*.csv\"))\n",
    "# Find the code in the filename that identifies the video\n",
    "re_expr = re.compile(r\"(\\d\\d\\d)_...csv\")\n",
    "codes = [re.match(re_expr, os.path.basename(f)).group(1) for f in files]\n",
    "# Store both code and file path in a dictionairy\n",
    "openface_output = {c:f for c, f in zip(codes, files)}\n",
    "\n",
    "del(files, codes, openface_output_dir)"
   ]
  },
  {
   "cell_type": "markdown",
   "metadata": {},
   "source": [
    "Lets take the first openface output file and read it into a pandas dataframe. Then I show the start of the table to show the structure of the output file."
   ]
  },
  {
   "cell_type": "code",
   "execution_count": 13,
   "metadata": {},
   "outputs": [
    {
     "ename": "StopIteration",
     "evalue": "",
     "output_type": "error",
     "traceback": [
      "\u001b[1;31m---------------------------------------------------------------------------\u001b[0m",
      "\u001b[1;31mStopIteration\u001b[0m                             Traceback (most recent call last)",
      "\u001b[1;32m<ipython-input-13-d4155c3afedd>\u001b[0m in \u001b[0;36m<module>\u001b[1;34m()\u001b[0m\n\u001b[1;32m----> 1\u001b[1;33m \u001b[0mof_example\u001b[0m \u001b[1;33m=\u001b[0m \u001b[0mpd\u001b[0m\u001b[1;33m.\u001b[0m\u001b[0mread_csv\u001b[0m\u001b[1;33m(\u001b[0m\u001b[0mnext\u001b[0m\u001b[1;33m(\u001b[0m\u001b[0miter\u001b[0m\u001b[1;33m(\u001b[0m\u001b[0mopenface_output\u001b[0m\u001b[1;33m.\u001b[0m\u001b[0mvalues\u001b[0m\u001b[1;33m(\u001b[0m\u001b[1;33m)\u001b[0m\u001b[1;33m)\u001b[0m\u001b[1;33m)\u001b[0m\u001b[1;33m,\u001b[0m \u001b[0mskipinitialspace\u001b[0m\u001b[1;33m=\u001b[0m\u001b[1;32mTrue\u001b[0m\u001b[1;33m)\u001b[0m\u001b[1;33m\u001b[0m\u001b[0m\n\u001b[0m\u001b[0;32m      2\u001b[0m \u001b[0mof_example\u001b[0m\u001b[1;33m.\u001b[0m\u001b[0mhead\u001b[0m\u001b[1;33m(\u001b[0m\u001b[1;33m)\u001b[0m\u001b[1;33m\u001b[0m\u001b[0m\n",
      "\u001b[1;31mStopIteration\u001b[0m: "
     ]
    }
   ],
   "source": [
    "of_example = pd.read_csv(next(iter(openface_output.values())), skipinitialspace=True)\n",
    "of_example.head()"
   ]
  },
  {
   "cell_type": "markdown",
   "metadata": {},
   "source": [
    "We can plot the action unit nr 12 (Lip corner puller) as an example. It also shows the difference between the discrete detection of openface (c) and the intensity detections (r)."
   ]
  },
  {
   "cell_type": "code",
   "execution_count": 7,
   "metadata": {},
   "outputs": [
    {
     "ename": "NameError",
     "evalue": "name 'of_example' is not defined",
     "output_type": "error",
     "traceback": [
      "\u001b[1;31m---------------------------------------------------------------------------\u001b[0m",
      "\u001b[1;31mNameError\u001b[0m                                 Traceback (most recent call last)",
      "\u001b[1;32m<ipython-input-7-df31ab295349>\u001b[0m in \u001b[0;36m<module>\u001b[1;34m()\u001b[0m\n\u001b[1;32m----> 1\u001b[1;33m \u001b[0mof_example\u001b[0m\u001b[1;33m.\u001b[0m\u001b[0mplot\u001b[0m\u001b[1;33m(\u001b[0m\u001b[0mx\u001b[0m\u001b[1;33m=\u001b[0m\u001b[1;34m\"timestamp\"\u001b[0m\u001b[1;33m,\u001b[0m \u001b[0my\u001b[0m\u001b[1;33m=\u001b[0m\u001b[1;33m[\u001b[0m\u001b[1;34m\"AU12_c\"\u001b[0m\u001b[1;33m,\u001b[0m \u001b[1;34m\"AU12_r\"\u001b[0m\u001b[1;33m]\u001b[0m\u001b[1;33m,\u001b[0m \u001b[0mfigsize\u001b[0m\u001b[1;33m=\u001b[0m\u001b[1;33m(\u001b[0m\u001b[1;36m15\u001b[0m\u001b[1;33m,\u001b[0m\u001b[1;36m10\u001b[0m\u001b[1;33m)\u001b[0m\u001b[1;33m,\u001b[0m \u001b[0msubplots\u001b[0m\u001b[1;33m=\u001b[0m\u001b[1;32mTrue\u001b[0m\u001b[1;33m,\u001b[0m \u001b[0msharex\u001b[0m\u001b[1;33m=\u001b[0m\u001b[1;32mTrue\u001b[0m\u001b[1;33m)\u001b[0m\u001b[1;33m\u001b[0m\u001b[0m\n\u001b[0m",
      "\u001b[1;31mNameError\u001b[0m: name 'of_example' is not defined"
     ]
    }
   ],
   "source": [
    "of_example.plot(x=\"timestamp\", y=[\"AU12_c\", \"AU12_r\"], figsize=(15,10), subplots=True, sharex=True)"
   ]
  },
  {
   "cell_type": "markdown",
   "metadata": {},
   "source": [
    "## FACS label file conversion"
   ]
  },
  {
   "cell_type": "markdown",
   "metadata": {},
   "source": [
    "The FACS encoded data is stored in a different format and we need to convert it.\n",
    "Lets read in the file and inspect its format:"
   ]
  },
  {
   "cell_type": "code",
   "execution_count": 59,
   "metadata": {},
   "outputs": [],
   "source": [
    "FACS_dir = os.path.join(\"G:\\\\\",\"PROJECT_DATA\",\"DEMENTIA_2017\",\"BAMBERG\",\"FACS_encoding\",\"original\")\n",
    "# Get all the files with a glob\n",
    "files = glob.glob(os.path.join(FACS_dir, \"*.xlsx\"), recursive=True)\n",
    "# Find the code in the filename that identifies the video\n",
    "re_expr = re.compile(r\".*(\\d\\d\\d)_vl.*\")\n",
    "codes = [re.match(re_expr, os.path.basename(f)).group(1) for f in files]\n",
    "# Store both code and file path in a dictionairy\n",
    "FACS_files = {c:f for c, f in zip(codes, files)}\n",
    "\n",
    "del(files, codes, FACS_dir)"
   ]
  },
  {
   "cell_type": "code",
   "execution_count": 65,
   "metadata": {},
   "outputs": [
    {
     "data": {
      "text/html": [
       "<div>\n",
       "<style scoped>\n",
       "    .dataframe tbody tr th:only-of-type {\n",
       "        vertical-align: middle;\n",
       "    }\n",
       "\n",
       "    .dataframe tbody tr th {\n",
       "        vertical-align: top;\n",
       "    }\n",
       "\n",
       "    .dataframe thead th {\n",
       "        text-align: right;\n",
       "    }\n",
       "</style>\n",
       "<table border=\"1\" class=\"dataframe\">\n",
       "  <thead>\n",
       "    <tr style=\"text-align: right;\">\n",
       "      <th></th>\n",
       "      <th>Date_Time_Absolute_dmy_hmsf</th>\n",
       "      <th>Date_dmy</th>\n",
       "      <th>Time_Absolute_hms</th>\n",
       "      <th>Time_Absolute_f</th>\n",
       "      <th>Time_Relative_hmsf</th>\n",
       "      <th>Time_Relative_hms</th>\n",
       "      <th>Time_Relative_f</th>\n",
       "      <th>Time_Relative_sf</th>\n",
       "      <th>Duration_sf</th>\n",
       "      <th>Observation</th>\n",
       "      <th>Event_Log</th>\n",
       "      <th>Behavior</th>\n",
       "      <th>Modifier_1</th>\n",
       "      <th>Event_Type</th>\n",
       "    </tr>\n",
       "  </thead>\n",
       "  <tbody>\n",
       "    <tr>\n",
       "      <th>0</th>\n",
       "      <td>2010-10-22 14:08:56.390</td>\n",
       "      <td>2010-10-22 14:08:56.390</td>\n",
       "      <td>2010-10-22 14:08:56</td>\n",
       "      <td>390</td>\n",
       "      <td>00:00:26.475000</td>\n",
       "      <td>00:00:26</td>\n",
       "      <td>475</td>\n",
       "      <td>26.4749</td>\n",
       "      <td>0.00000</td>\n",
       "      <td>003_vl</td>\n",
       "      <td>Event log0001</td>\n",
       "      <td>heat_start</td>\n",
       "      <td>NaN</td>\n",
       "      <td>State point</td>\n",
       "    </tr>\n",
       "    <tr>\n",
       "      <th>1</th>\n",
       "      <td>2010-10-22 14:09:24.112</td>\n",
       "      <td>2010-10-22 14:09:24.112</td>\n",
       "      <td>2010-10-22 14:09:24</td>\n",
       "      <td>112</td>\n",
       "      <td>00:00:54.197000</td>\n",
       "      <td>00:00:54</td>\n",
       "      <td>197</td>\n",
       "      <td>54.1966</td>\n",
       "      <td>0.00000</td>\n",
       "      <td>003_vl</td>\n",
       "      <td>Event log0001</td>\n",
       "      <td>pain_start</td>\n",
       "      <td>NaN</td>\n",
       "      <td>State point</td>\n",
       "    </tr>\n",
       "    <tr>\n",
       "      <th>2</th>\n",
       "      <td>2010-10-22 14:09:25.129</td>\n",
       "      <td>2010-10-22 14:09:25.129</td>\n",
       "      <td>2010-10-22 14:09:25</td>\n",
       "      <td>129</td>\n",
       "      <td>00:00:55.214000</td>\n",
       "      <td>00:00:55</td>\n",
       "      <td>214</td>\n",
       "      <td>55.2144</td>\n",
       "      <td>4.52675</td>\n",
       "      <td>003_vl</td>\n",
       "      <td>Event log0001</td>\n",
       "      <td>12_p_vl</td>\n",
       "      <td>2.0</td>\n",
       "      <td>State start</td>\n",
       "    </tr>\n",
       "    <tr>\n",
       "      <th>3</th>\n",
       "      <td>2010-10-22 14:09:25.163</td>\n",
       "      <td>2010-10-22 14:09:25.163</td>\n",
       "      <td>2010-10-22 14:09:25</td>\n",
       "      <td>163</td>\n",
       "      <td>00:00:55.248000</td>\n",
       "      <td>00:00:55</td>\n",
       "      <td>248</td>\n",
       "      <td>55.2478</td>\n",
       "      <td>4.49339</td>\n",
       "      <td>003_vl</td>\n",
       "      <td>Event log0001</td>\n",
       "      <td>06_p_vl</td>\n",
       "      <td>2.0</td>\n",
       "      <td>State start</td>\n",
       "    </tr>\n",
       "    <tr>\n",
       "      <th>4</th>\n",
       "      <td>2010-10-22 14:09:25.163</td>\n",
       "      <td>2010-10-22 14:09:25.163</td>\n",
       "      <td>2010-10-22 14:09:25</td>\n",
       "      <td>163</td>\n",
       "      <td>00:00:55.248000</td>\n",
       "      <td>00:00:55</td>\n",
       "      <td>248</td>\n",
       "      <td>55.2478</td>\n",
       "      <td>4.49339</td>\n",
       "      <td>003_vl</td>\n",
       "      <td>Event log0001</td>\n",
       "      <td>07_p_vl</td>\n",
       "      <td>2.0</td>\n",
       "      <td>State start</td>\n",
       "    </tr>\n",
       "  </tbody>\n",
       "</table>\n",
       "</div>"
      ],
      "text/plain": [
       "  Date_Time_Absolute_dmy_hmsf                Date_dmy   Time_Absolute_hms  \\\n",
       "0     2010-10-22 14:08:56.390 2010-10-22 14:08:56.390 2010-10-22 14:08:56   \n",
       "1     2010-10-22 14:09:24.112 2010-10-22 14:09:24.112 2010-10-22 14:09:24   \n",
       "2     2010-10-22 14:09:25.129 2010-10-22 14:09:25.129 2010-10-22 14:09:25   \n",
       "3     2010-10-22 14:09:25.163 2010-10-22 14:09:25.163 2010-10-22 14:09:25   \n",
       "4     2010-10-22 14:09:25.163 2010-10-22 14:09:25.163 2010-10-22 14:09:25   \n",
       "\n",
       "   Time_Absolute_f Time_Relative_hmsf Time_Relative_hms  Time_Relative_f  \\\n",
       "0              390    00:00:26.475000          00:00:26              475   \n",
       "1              112    00:00:54.197000          00:00:54              197   \n",
       "2              129    00:00:55.214000          00:00:55              214   \n",
       "3              163    00:00:55.248000          00:00:55              248   \n",
       "4              163    00:00:55.248000          00:00:55              248   \n",
       "\n",
       "   Time_Relative_sf  Duration_sf Observation      Event_Log    Behavior  \\\n",
       "0           26.4749      0.00000      003_vl  Event log0001  heat_start   \n",
       "1           54.1966      0.00000      003_vl  Event log0001  pain_start   \n",
       "2           55.2144      4.52675      003_vl  Event log0001     12_p_vl   \n",
       "3           55.2478      4.49339      003_vl  Event log0001     06_p_vl   \n",
       "4           55.2478      4.49339      003_vl  Event log0001     07_p_vl   \n",
       "\n",
       "   Modifier_1   Event_Type  \n",
       "0         NaN  State point  \n",
       "1         NaN  State point  \n",
       "2         2.0  State start  \n",
       "3         2.0  State start  \n",
       "4         2.0  State start  "
      ]
     },
     "execution_count": 65,
     "metadata": {},
     "output_type": "execute_result"
    }
   ],
   "source": [
    "facs_example = pd.read_excel(next(iter(FACS_files.values())), skipinitialspace=True)\n",
    "facs_example.head()"
   ]
  },
  {
   "cell_type": "markdown",
   "metadata": {},
   "source": [
    "### Conversion steop 1 for FACS labels "
   ]
  },
  {
   "cell_type": "markdown",
   "metadata": {},
   "source": [
    "The labeling of the FACS data is saved in a way that we want to change. Per row in the FACS excel file is a start or stop (\"Time_Relative_sf\") of a \"Behaviour\". This behaviour is a feature like an AU or the start or stop of a pain stimuli (\"pain_start\"). For AUs you can also have a \"Modifier_1\" which is the intensity with which the annotator rated the AU. In the next function I convert this file to a format of periods. In this format one row is one occurance of an AU (or pain start), so every row has a start and stop time, a behaviour and an intensity."
   ]
  },
  {
   "cell_type": "code",
   "execution_count": 22,
   "metadata": {},
   "outputs": [],
   "source": [
    "dummy_df = pd.DataFrame({\"Time_Relative_sf\": [1, 2, 2, 5, 1], \"Duration_sf\":[0.01, 0.02, 2, 5, 1],\\\n",
    "                         \"Behavior\" : [\"AU01\", \"AU01\", \"AU02\", \"AU02\", \"pain start\"], \\\n",
    "                         \"Event_Type\": [\"State start\", \"State stop\", \"State start\", \"State stop\", \"State point\"], \\\n",
    "                         \"Modifier_1\": [3, 3, 2, 2, 0]})\n",
    "\n",
    "facs_example = dummy_df"
   ]
  },
  {
   "cell_type": "code",
   "execution_count": 65,
   "metadata": {},
   "outputs": [
    {
     "data": {
      "text/html": [
       "<div>\n",
       "<style scoped>\n",
       "    .dataframe tbody tr th:only-of-type {\n",
       "        vertical-align: middle;\n",
       "    }\n",
       "\n",
       "    .dataframe tbody tr th {\n",
       "        vertical-align: top;\n",
       "    }\n",
       "\n",
       "    .dataframe thead th {\n",
       "        text-align: right;\n",
       "    }\n",
       "</style>\n",
       "<table border=\"1\" class=\"dataframe\">\n",
       "  <thead>\n",
       "    <tr style=\"text-align: right;\">\n",
       "      <th></th>\n",
       "      <th>time</th>\n",
       "      <th>AU01</th>\n",
       "      <th>AU02</th>\n",
       "      <th>pain start</th>\n",
       "    </tr>\n",
       "  </thead>\n",
       "  <tbody>\n",
       "    <tr>\n",
       "      <th>0</th>\n",
       "      <td>0</td>\n",
       "      <td>0</td>\n",
       "      <td>0</td>\n",
       "      <td>0</td>\n",
       "    </tr>\n",
       "    <tr>\n",
       "      <th>1</th>\n",
       "      <td>1</td>\n",
       "      <td>3</td>\n",
       "      <td>0</td>\n",
       "      <td>1</td>\n",
       "    </tr>\n",
       "    <tr>\n",
       "      <th>2</th>\n",
       "      <td>2</td>\n",
       "      <td>3</td>\n",
       "      <td>2</td>\n",
       "      <td>1</td>\n",
       "    </tr>\n",
       "    <tr>\n",
       "      <th>3</th>\n",
       "      <td>3</td>\n",
       "      <td>0</td>\n",
       "      <td>2</td>\n",
       "      <td>0</td>\n",
       "    </tr>\n",
       "    <tr>\n",
       "      <th>4</th>\n",
       "      <td>4</td>\n",
       "      <td>0</td>\n",
       "      <td>2</td>\n",
       "      <td>0</td>\n",
       "    </tr>\n",
       "  </tbody>\n",
       "</table>\n",
       "</div>"
      ],
      "text/plain": [
       "   time  AU01  AU02  pain start\n",
       "0     0     0     0           0\n",
       "1     1     3     0           1\n",
       "2     2     3     2           1\n",
       "3     3     0     2           0\n",
       "4     4     0     2           0"
      ]
     },
     "execution_count": 65,
     "metadata": {},
     "output_type": "execute_result"
    }
   ],
   "source": [
    "import conversions\n",
    "timeseries = conversions.convert_bamberg_to_timeseries(\n",
    "    dataframe=facs_example, \n",
    "    time_line = [0,1,2,3,4, 5, 6, 7],\n",
    "    pain_duration=1,\n",
    "    results_col_name_for_feature=\"feature\"\n",
    ")\n",
    "facs_example_conv.head()\n",
    "timeseries.head()"
   ]
  },
  {
   "cell_type": "code",
   "execution_count": 61,
   "metadata": {},
   "outputs": [
    {
     "data": {
      "text/plain": [
       "<matplotlib.axes._subplots.AxesSubplot at 0x1f858e14240>"
      ]
     },
     "execution_count": 61,
     "metadata": {},
     "output_type": "execute_result"
    },
    {
     "data": {
      "image/png": "[encoded data removed]",
      "text/plain": [
       "<matplotlib.figure.Figure at 0x1f859087a58>"
      ]
     },
     "metadata": {},
     "output_type": "display_data"
    }
   ],
   "source": [
    "timeseries.plot(x=\"time\")"
   ]
  },
  {
   "cell_type": "code",
   "execution_count": null,
   "metadata": {},
   "outputs": [],
   "source": []
  },
  {
   "cell_type": "code",
   "execution_count": null,
   "metadata": {},
   "outputs": [],
   "source": [
    "def merge_openface_facs(of_dateframe, facs_dataframe):\n",
    "    "
   ]
  }
 ],
 "metadata": {
  "kernelspec": {
   "display_name": "Python 3",
   "language": "python",
   "name": "python3"
  },
  "language_info": {
   "codemirror_mode": {
    "name": "ipython",
    "version": 3
   },
   "file_extension": ".py",
   "mimetype": "text/x-python",
   "name": "python",
   "nbconvert_exporter": "python",
   "pygments_lexer": "ipython3",
   "version": "3.6.3"
  }
 },
 "nbformat": 4,
 "nbformat_minor": 2
}
